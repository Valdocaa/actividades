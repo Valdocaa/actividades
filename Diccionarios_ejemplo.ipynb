{
  "nbformat": 4,
  "nbformat_minor": 0,
  "metadata": {
    "colab": {
      "provenance": [],
      "authorship_tag": "ABX9TyPSPX0FyoYIsx0PrfzT4kp3",
      "include_colab_link": true
    },
    "kernelspec": {
      "name": "python3",
      "display_name": "Python 3"
    },
    "language_info": {
      "name": "python"
    }
  },
  "cells": [
    {
      "cell_type": "markdown",
      "metadata": {
        "id": "view-in-github",
        "colab_type": "text"
      },
      "source": [
        "<a href=\"https://colab.research.google.com/github/Valdocaa/actividades/blob/main/Diccionarios_ejemplo.ipynb\" target=\"_parent\"><img src=\"https://colab.research.google.com/assets/colab-badge.svg\" alt=\"Open In Colab\"/></a>"
      ]
    },
    {
      "cell_type": "markdown",
      "source": [
        "# Ciencia de Datos\n",
        "##Diccionarios\n",
        "##### 23 agosto 2023"
      ],
      "metadata": {
        "id": "iKfSbXIRQrap"
      }
    },
    {
      "cell_type": "code",
      "execution_count": null,
      "metadata": {
        "colab": {
          "base_uri": "https://localhost:8080/"
        },
        "id": "ZZf1kmPwOeWI",
        "outputId": "1d01b1bd-ad93-4a6e-a875-6f5e49ad51b0"
      },
      "outputs": [
        {
          "output_type": "stream",
          "name": "stdout",
          "text": [
            "{'A': 1900, 'B': 1988, 'C': 6767, 'D': 9000}\n",
            "no esta\n",
            "1900\n"
          ]
        }
      ],
      "source": [
        "# Creamos un diccionario vacío llamado 'd'\n",
        "d = dict()\n",
        "\n",
        "# Agregamos elementos al diccionario usando llaves como clave y valores correspondientes\n",
        "d['A'] = 1900\n",
        "d['B'] = 1988\n",
        "d['C'] = 6767\n",
        "d['D'] = 9000\n",
        "\n",
        "# Imprimimos el diccionario completo\n",
        "print(d)\n",
        "\n",
        "# Utilizamos el método 'get' para obtener el valor asociado a la clave 'F'\n",
        "# Si la clave no existe, se devuelve 'no esta'\n",
        "print(d.get('F', 'no esta'))\n",
        "\n",
        "# Imprimimos el valor asociado a la clave 'A'\n",
        "print(d['A'])\n"
      ]
    },
    {
      "cell_type": "markdown",
      "source": [],
      "metadata": {
        "id": "thmJBinKP-IJ"
      }
    },
    {
      "cell_type": "code",
      "source": [
        "print(d.get('F', 'no esta'))\n",
        "print(d.get('A', 'no esta'))"
      ],
      "metadata": {
        "colab": {
          "base_uri": "https://localhost:8080/"
        },
        "id": "MLe0ZVy3P3qD",
        "outputId": "c94052a9-ee53-43a4-f7d6-29b03a5cdbb8"
      },
      "execution_count": null,
      "outputs": [
        {
          "output_type": "stream",
          "name": "stdout",
          "text": [
            "no esta\n",
            "1900\n"
          ]
        }
      ]
    }
  ]
}